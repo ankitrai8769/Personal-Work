{
  "nbformat": 4,
  "nbformat_minor": 0,
  "metadata": {
    "colab": {
      "name": "Welcome To Colaboratory",
      "provenance": [],
      "collapsed_sections": [],
      "include_colab_link": true
    },
    "kernelspec": {
      "display_name": "Python 3",
      "name": "python3"
    }
  },
  "cells": [
    {
      "cell_type": "markdown",
      "metadata": {
        "id": "view-in-github",
        "colab_type": "text"
      },
      "source": [
        "<a href=\"https://colab.research.google.com/github/ankitrai8769/Personal-Work/blob/master/LeNet%20Chest%20Xray.ipynb\" target=\"_parent\"><img src=\"https://colab.research.google.com/assets/colab-badge.svg\" alt=\"Open In Colab\"/></a>"
      ]
    },
    {
      "cell_type": "code",
      "metadata": {
        "id": "_mX_roxWFB5K",
        "colab_type": "code",
        "colab": {
          "base_uri": "https://localhost:8080/",
          "height": 130
        },
        "outputId": "8646c77f-b04c-4aa9-80d3-54d0e8461744"
      },
      "source": [
        "from google.colab import drive\n",
        "drive.mount('/content/drive')"
      ],
      "execution_count": 1,
      "outputs": [
        {
          "output_type": "stream",
          "text": [
            "Go to this URL in a browser: https://accounts.google.com/o/oauth2/auth?client_id=947318989803-6bn6qk8qdgf4n4g3pfee6491hc0brc4i.apps.googleusercontent.com&redirect_uri=urn%3aietf%3awg%3aoauth%3a2.0%3aoob&scope=email%20https%3a%2f%2fwww.googleapis.com%2fauth%2fdocs.test%20https%3a%2f%2fwww.googleapis.com%2fauth%2fdrive%20https%3a%2f%2fwww.googleapis.com%2fauth%2fdrive.photos.readonly%20https%3a%2f%2fwww.googleapis.com%2fauth%2fpeopleapi.readonly&response_type=code\n",
            "\n",
            "Enter your authorization code:\n",
            "··········\n",
            "Mounted at /content/drive\n"
          ],
          "name": "stdout"
        }
      ]
    },
    {
      "cell_type": "code",
      "metadata": {
        "id": "XLwDf7PPFAQZ",
        "colab_type": "code",
        "colab": {}
      },
      "source": [
        "import keras\n",
        "from keras.layers import Dense\n",
        "from keras.layers import Convolution2D\n",
        "from keras.layers import MaxPooling2D\n",
        "from keras.layers import Flatten\n",
        "from keras.models import Sequential"
      ],
      "execution_count": 4,
      "outputs": []
    },
    {
      "cell_type": "code",
      "metadata": {
        "id": "yFY4hMumFAaO",
        "colab_type": "code",
        "colab": {}
      },
      "source": [
        "from keras.preprocessing.image import ImageDataGenerator\n",
        "\n",
        "train_datagen = ImageDataGenerator(rescale = 1./255,\n",
        "                                   shear_range = 0.2,\n",
        "                                   zoom_range = 0.2,\n",
        "                                   horizontal_flip = True)\n",
        "test_datagen = ImageDataGenerator(rescale = 1./255)"
      ],
      "execution_count": 5,
      "outputs": []
    },
    {
      "cell_type": "code",
      "metadata": {
        "id": "IaFNcdm8I3qu",
        "colab_type": "code",
        "colab": {
          "base_uri": "https://localhost:8080/",
          "height": 54
        },
        "outputId": "6fbb5c36-400e-40d8-f51c-55a612787077"
      },
      "source": [
        "training_set = train_datagen.flow_from_directory('/content/drive/My Drive/chest_xray/train',\n",
        "                                                 target_size = (32, 32),\n",
        "                                                 batch_size = 8,\n",
        "                                                 class_mode = 'binary')\n",
        "\n",
        "test_set = test_datagen.flow_from_directory('/content/drive/My Drive/chest_xray/test',\n",
        "                                            target_size = (32, 32),\n",
        "                                            batch_size = 8,\n",
        "                                            class_mode = 'binary')"
      ],
      "execution_count": 6,
      "outputs": [
        {
          "output_type": "stream",
          "text": [
            "Found 5249 images belonging to 2 classes.\n",
            "Found 624 images belonging to 2 classes.\n"
          ],
          "name": "stdout"
        }
      ]
    },
    {
      "cell_type": "code",
      "metadata": {
        "id": "UYbxw3eXI3vs",
        "colab_type": "code",
        "colab": {}
      },
      "source": [
        "model = Sequential()\n",
        "model.add(Convolution2D(6,(5,5), input_shape=(32,32,3),strides=1, padding='valid', activation='relu'))\n",
        "model.add(MaxPooling2D(pool_size=(2,2),strides=2))\n",
        "model.add(Convolution2D(16,(5,5),strides=1, padding='valid',  activation='relu'))\n",
        "model.add(MaxPooling2D(pool_size=(2,2),strides=2))\n",
        "model.add(Convolution2D(120,(5,5),strides=1, padding='valid',  activation='relu'))\n"
      ],
      "execution_count": 7,
      "outputs": []
    },
    {
      "cell_type": "code",
      "metadata": {
        "id": "wAAQjeaAFAc3",
        "colab_type": "code",
        "colab": {
          "base_uri": "https://localhost:8080/",
          "height": 463
        },
        "outputId": "907f5ecb-e85d-4b0f-a3ba-89b0e49fd85c"
      },
      "source": [
        "model.add(Flatten())\n",
        "model.add(Dense(84, input_shape=(120,)))\n",
        "#classifier.add(Dense(84,activation='relu'))\n",
        "model.add(Dense(1,activation='softmax'))\n",
        "model.compile(optimizer='adam',loss='binary_crossentropy',metrics=['accuracy'])\n",
        "model.summary()"
      ],
      "execution_count": 8,
      "outputs": [
        {
          "output_type": "stream",
          "text": [
            "Model: \"sequential\"\n",
            "_________________________________________________________________\n",
            "Layer (type)                 Output Shape              Param #   \n",
            "=================================================================\n",
            "conv2d (Conv2D)              (None, 28, 28, 6)         456       \n",
            "_________________________________________________________________\n",
            "max_pooling2d (MaxPooling2D) (None, 14, 14, 6)         0         \n",
            "_________________________________________________________________\n",
            "conv2d_1 (Conv2D)            (None, 10, 10, 16)        2416      \n",
            "_________________________________________________________________\n",
            "max_pooling2d_1 (MaxPooling2 (None, 5, 5, 16)          0         \n",
            "_________________________________________________________________\n",
            "conv2d_2 (Conv2D)            (None, 1, 1, 120)         48120     \n",
            "_________________________________________________________________\n",
            "flatten (Flatten)            (None, 120)               0         \n",
            "_________________________________________________________________\n",
            "dense (Dense)                (None, 84)                10164     \n",
            "_________________________________________________________________\n",
            "dense_1 (Dense)              (None, 1)                 85        \n",
            "=================================================================\n",
            "Total params: 61,241\n",
            "Trainable params: 61,241\n",
            "Non-trainable params: 0\n",
            "_________________________________________________________________\n"
          ],
          "name": "stdout"
        }
      ]
    },
    {
      "cell_type": "code",
      "metadata": {
        "id": "0GR4Hz6bFAf8",
        "colab_type": "code",
        "colab": {
          "base_uri": "https://localhost:8080/",
          "height": 483
        },
        "outputId": "a59d6dd6-5642-4fa5-ab5d-fdb735e41d85"
      },
      "source": [
        "model.fit_generator(training_set,\n",
        "                            steps_per_epoch=400,\n",
        "                            epochs=10,\n",
        "                            validation_data=test_set)"
      ],
      "execution_count": 9,
      "outputs": [
        {
          "output_type": "stream",
          "text": [
            "WARNING:tensorflow:From <ipython-input-9-d05457f6acb1>:4: Model.fit_generator (from tensorflow.python.keras.engine.training) is deprecated and will be removed in a future version.\n",
            "Instructions for updating:\n",
            "Please use Model.fit, which supports generators.\n",
            "Epoch 1/10\n",
            "400/400 [==============================] - 2384s 6s/step - loss: 4.0690 - accuracy: 0.7332 - val_loss: 5.7185 - val_accuracy: 0.6250\n",
            "Epoch 2/10\n",
            "400/400 [==============================] - 805s 2s/step - loss: 3.9162 - accuracy: 0.7432 - val_loss: 5.7185 - val_accuracy: 0.6250\n",
            "Epoch 3/10\n",
            "400/400 [==============================] - 348s 870ms/step - loss: 3.8589 - accuracy: 0.7469 - val_loss: 5.7185 - val_accuracy: 0.6250\n",
            "Epoch 4/10\n",
            "400/400 [==============================] - 154s 384ms/step - loss: 3.8923 - accuracy: 0.7448 - val_loss: 5.7185 - val_accuracy: 0.6250\n",
            "Epoch 5/10\n",
            "400/400 [==============================] - 113s 281ms/step - loss: 3.9743 - accuracy: 0.7394 - val_loss: 5.7185 - val_accuracy: 0.6250\n",
            "Epoch 6/10\n",
            "400/400 [==============================] - 76s 189ms/step - loss: 3.9926 - accuracy: 0.7382 - val_loss: 5.7185 - val_accuracy: 0.6250\n",
            "Epoch 7/10\n",
            "400/400 [==============================] - 65s 163ms/step - loss: 4.0977 - accuracy: 0.7313 - val_loss: 5.7185 - val_accuracy: 0.6250\n",
            "Epoch 8/10\n",
            "400/400 [==============================] - 60s 151ms/step - loss: 3.7980 - accuracy: 0.7509 - val_loss: 5.7185 - val_accuracy: 0.6250\n",
            "Epoch 9/10\n",
            "400/400 [==============================] - 56s 141ms/step - loss: 3.8493 - accuracy: 0.7476 - val_loss: 5.7185 - val_accuracy: 0.6250\n",
            "Epoch 10/10\n",
            "400/400 [==============================] - 55s 139ms/step - loss: 3.8589 - accuracy: 0.7469 - val_loss: 5.7185 - val_accuracy: 0.6250\n"
          ],
          "name": "stdout"
        },
        {
          "output_type": "execute_result",
          "data": {
            "text/plain": [
              "<tensorflow.python.keras.callbacks.History at 0x7f7e08169e10>"
            ]
          },
          "metadata": {
            "tags": []
          },
          "execution_count": 9
        }
      ]
    },
    {
      "cell_type": "code",
      "metadata": {
        "id": "lQi4U1U1KwmE",
        "colab_type": "code",
        "colab": {
          "base_uri": "https://localhost:8080/",
          "height": 248
        },
        "outputId": "974f348d-b30a-4e92-cf36-2c641b993f4e"
      },
      "source": [
        "import numpy as np\n",
        "from keras.preprocessing import image\n",
        "test_image = image.load_img('/content/drive/My Drive/chest_xray/test/NORMAL/IM-0001-0001.jpeg',target_size=(32,32))\n",
        "test_image=np.expand_dims(test_image,axis=0) #extra dimension is of batch size\n",
        "#test_image=image.img_to_array(test_image)\n",
        "\n",
        "\n",
        "print(model.predict(test_image))\n",
        "\n",
        "training_set.class_indices"
      ],
      "execution_count": 3,
      "outputs": [
        {
          "output_type": "error",
          "ename": "NameError",
          "evalue": "ignored",
          "traceback": [
            "\u001b[0;31m---------------------------------------------------------------------------\u001b[0m",
            "\u001b[0;31mNameError\u001b[0m                                 Traceback (most recent call last)",
            "\u001b[0;32m<ipython-input-3-6b83112aa640>\u001b[0m in \u001b[0;36m<module>\u001b[0;34m()\u001b[0m\n\u001b[1;32m      6\u001b[0m \u001b[0;34m\u001b[0m\u001b[0m\n\u001b[1;32m      7\u001b[0m \u001b[0;34m\u001b[0m\u001b[0m\n\u001b[0;32m----> 8\u001b[0;31m \u001b[0mprint\u001b[0m\u001b[0;34m(\u001b[0m\u001b[0mmodel\u001b[0m\u001b[0;34m.\u001b[0m\u001b[0mpredict\u001b[0m\u001b[0;34m(\u001b[0m\u001b[0mtest_image\u001b[0m\u001b[0;34m)\u001b[0m\u001b[0;34m)\u001b[0m\u001b[0;34m\u001b[0m\u001b[0;34m\u001b[0m\u001b[0m\n\u001b[0m\u001b[1;32m      9\u001b[0m \u001b[0;34m\u001b[0m\u001b[0m\n\u001b[1;32m     10\u001b[0m \u001b[0mtraining_set\u001b[0m\u001b[0;34m.\u001b[0m\u001b[0mclass_indices\u001b[0m\u001b[0;34m\u001b[0m\u001b[0;34m\u001b[0m\u001b[0m\n",
            "\u001b[0;31mNameError\u001b[0m: name 'model' is not defined"
          ]
        }
      ]
    }
  ]
}